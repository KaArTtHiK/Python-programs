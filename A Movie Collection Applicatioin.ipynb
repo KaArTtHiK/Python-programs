{
 "cells": [
  {
   "cell_type": "code",
   "execution_count": 1,
   "metadata": {},
   "outputs": [],
   "source": [
    "MENU_PROMPT = \"Enter 'a' to add a movie, 'l' to see your movies, 'f' to find a movie by title, or 'q' to quit: \"\n",
    "movies = []\n",
    "\n",
    "def add_movie():\n",
    "    title = input(\"Enter the movie title: \")\n",
    "    director = input(\"Enter the movie director: \")\n",
    "    year = input(\"Enter the movie release year: \")\n",
    "    movies.append({\n",
    "        'title': title,\n",
    "        'director': director,\n",
    "        'year': year\n",
    "    })\n",
    "\n",
    "\n",
    "def print_list(movie):\n",
    "    print(f\"\\ntitle: {movie['title']}\")\n",
    "    print(f\"director: {movie['director']}\")\n",
    "    print(f\"year: {movie['year']}\",end = \"\\n\")\n",
    "\n",
    "\n",
    "def listing():\n",
    "    for i in movies:\n",
    "        print_list(i)\n",
    "\n",
    "          \n",
    "def find_movies():\n",
    "    name = input(\"Enter the name of movie to find in the lsit of your movies:\")\n",
    "    for i in movies:\n",
    "        if i[\"title\"] == name:\n",
    "            print_list(i)\n",
    "          \n",
    "\n",
    "Menu_list = {\n",
    "    \"a\":add_movie,\n",
    "    \"l\":listing,\n",
    "    \"f\":find_movies\n",
    "}\n",
    "          \n",
    "\n",
    "def selection():\n",
    "    selection = input(MENU_PROMPT)\n",
    "    while selection != 'q':\n",
    "        if selection in Menu_list:\n",
    "            option = Menu_list[selection]\n",
    "            option()\n",
    "        else:\n",
    "            print('Unknown command. Please try again.')\n",
    "        selection = input(MENU_PROMPT)\n",
    "  \n"
   ]
  },
  {
   "cell_type": "code",
   "execution_count": null,
   "metadata": {},
   "outputs": [],
   "source": [
    "selection()"
   ]
  },
  {
   "cell_type": "code",
   "execution_count": null,
   "metadata": {},
   "outputs": [],
   "source": []
  }
 ],
 "metadata": {
  "kernelspec": {
   "display_name": "Python 3",
   "language": "python",
   "name": "python3"
  },
  "language_info": {
   "codemirror_mode": {
    "name": "ipython",
    "version": 3
   },
   "file_extension": ".py",
   "mimetype": "text/x-python",
   "name": "python",
   "nbconvert_exporter": "python",
   "pygments_lexer": "ipython3",
   "version": "3.6.8"
  }
 },
 "nbformat": 4,
 "nbformat_minor": 2
}
