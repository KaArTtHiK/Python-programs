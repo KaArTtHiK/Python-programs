{
 "cells": [
  {
   "cell_type": "code",
   "execution_count": 2,
   "metadata": {},
   "outputs": [
    {
     "name": "stdout",
     "output_type": "stream",
     "text": [
      "Enter 'a' to add a movie, 'l' to see your movies, 'f' to find a movie by title, or 'q' to quit: a\n",
      "Enter the movie title: k1\n",
      "Enter the movie director: l\n",
      "Enter the movie release year: 2020\n",
      "Enter 'a' to add a movie, 'l' to see your movies, 'f' to find a movie by title, or 'q' to quit: k2\n",
      "Unknown command. Please try again.\n",
      "Enter 'a' to add a movie, 'l' to see your movies, 'f' to find a movie by title, or 'q' to quit: lp\n",
      "Unknown command. Please try again.\n",
      "Enter 'a' to add a movie, 'l' to see your movies, 'f' to find a movie by title, or 'q' to quit: 2021\n",
      "Unknown command. Please try again.\n",
      "Enter 'a' to add a movie, 'l' to see your movies, 'f' to find a movie by title, or 'q' to quit: a\n",
      "Enter the movie title: k2\n",
      "Enter the movie director: lp\n",
      "Enter the movie release year: 2021\n",
      "Enter 'a' to add a movie, 'l' to see your movies, 'f' to find a movie by title, or 'q' to quit: l\n",
      "\n",
      "title: k1\n",
      "director: l\n",
      "year: 2020\n",
      "\n",
      "title: k2\n",
      "director: lp\n",
      "year: 2021\n",
      "Enter 'a' to add a movie, 'l' to see your movies, 'f' to find a movie by title, or 'q' to quit: f\n",
      "Enter the name of movie to find in the lsit of your movies:k1\n",
      "\n",
      "title: k1\n",
      "director: l\n",
      "year: 2020\n",
      "Enter 'a' to add a movie, 'l' to see your movies, 'f' to find a movie by title, or 'q' to quit: h\n",
      "Unknown command. Please try again.\n",
      "Enter 'a' to add a movie, 'l' to see your movies, 'f' to find a movie by title, or 'q' to quit: q\n"
     ]
    }
   ],
   "source": [
    "MENU_PROMPT = \"Enter 'a' to add a movie, 'l' to see your movies, 'f' to find a movie by title, or 'q' to quit: \"\n",
    "movies = []\n",
    "\n",
    "\n",
    "def add_movie():\n",
    "    title = input(\"Enter the movie title: \")\n",
    "    director = input(\"Enter the movie director: \")\n",
    "    year = input(\"Enter the movie release year: \")\n",
    "    movies.append({\n",
    "        'title': title,\n",
    "        'director': director,\n",
    "        'year': year\n",
    "    })\n",
    "\n",
    "\n",
    "def print_list(movie):\n",
    "    print(f\"\\ntitle: {movie['title']}\")\n",
    "    print(f\"director: {movie['director']}\")\n",
    "    print(f\"year: {movie['year']}\",end = \"\\n\")\n",
    "\n",
    "\n",
    "def listing():\n",
    "    for i in movies:\n",
    "        print_list(i)\n",
    "\n",
    "def find_movies():\n",
    "    name = input(\"Enter the name of movie to find in the lsit of your movies:\")\n",
    "    for i in movies:\n",
    "        if i[\"title\"] == name:\n",
    "            print_list(i)\n",
    "          \n",
    "Menu_list = {\n",
    "    \"a\":add_movie,\n",
    "    \"l\":listing,\n",
    "    \"f\":find_movies\n",
    "}\n",
    "\n",
    "\n",
    "def selection():\n",
    "    selection = input(MENU_PROMPT)\n",
    "    while selection != 'q':\n",
    "        if selection in Menu_list:\n",
    "            option = Menu_list[selection]\n",
    "            option()\n",
    "        else:\n",
    "            print('Unknown command. Please try again.')\n",
    "        selection = input(MENU_PROMPT)\n",
    "  \n",
    "\n",
    "selection()"
   ]
  },
  {
   "cell_type": "code",
   "execution_count": null,
   "metadata": {},
   "outputs": [],
   "source": []
  }
 ],
 "metadata": {
  "kernelspec": {
   "display_name": "Python 3",
   "language": "python",
   "name": "python3"
  },
  "language_info": {
   "codemirror_mode": {
    "name": "ipython",
    "version": 3
   },
   "file_extension": ".py",
   "mimetype": "text/x-python",
   "name": "python",
   "nbconvert_exporter": "python",
   "pygments_lexer": "ipython3",
   "version": "3.6.8"
  }
 },
 "nbformat": 4,
 "nbformat_minor": 2
}
